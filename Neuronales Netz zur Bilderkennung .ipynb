{
 "cells": [
  {
   "cell_type": "markdown",
   "metadata": {},
   "source": [
    "## Neuronales Netz zur Bilderkennung trainieren\n",
    "<br/>\n",
    "\n",
    "-  MNIST dataset beinhaltet handschriftlich geschriebene Ziffern. Diese soll das Neuronale Netz erkennen. \n",
    "-  Exemplarische Ziffern-Bilder siehe unten (5,0,4,1,9).\n",
    "-  Verwendet wird hier nur eine Teilmenge des populären MNIST-datasets, um beim Trainingsprozess Rechenzeit zu sparen.\n",
    "-  Der Trainingsdatensatz besteht aus 100 Bildern, wobei jedes Bild aus 28 X 28 Pixeln = 784 Werten / Pixeln besteht. \n",
    "-  Die Pixel sind in Grauabstufungen kodiert. Wertebereich: [0, 255]\n",
    "-  Zusätzlich beeinhaltet jeder Datensatz an erster Stelle die gesuchte Ziffer (das Target)."
   ]
  },
  {
   "cell_type": "markdown",
   "metadata": {},
   "source": [
    "#### Trainingsdatensatz einlesen und exemplarisch davon ein paar Bilder ausgeben lassen"
   ]
  },
  {
   "cell_type": "code",
   "execution_count": 1,
   "metadata": {},
   "outputs": [
    {
     "data": {
      "text/plain": [
       "100"
      ]
     },
     "execution_count": 1,
     "metadata": {},
     "output_type": "execute_result"
    }
   ],
   "source": [
    "data_file = open(\"mnist_train_100.csv\", 'r')\n",
    "data_list = data_file.readlines() # ganze Datei in Hauptspeicher laden, nicht empfehlenswert, aber hier okay !\n",
    "data_file.close()\n",
    "\n",
    "len(data_list) "
   ]
  },
  {
   "cell_type": "code",
   "execution_count": 2,
   "metadata": {},
   "outputs": [],
   "source": [
    "import numpy as np\n",
    "import matplotlib.pyplot as plt\n",
    "\n",
    "# Anzeige der ersten 5 Bilder im Trainingsdatensatz:\n",
    "bilder_anzeigen = 5\n",
    "\n",
    "f, axarr = plt.subplots(ncols= bilder_anzeigen, figsize=(10, 10))\n",
    "\n",
    "for i in range(bilder_anzeigen):\n",
    "    alle_werte = data_list[i].split(',') # Pixel des i-ten Bild einlesen und Kommas entfernen\n",
    "    bild_array = np.asfarray(alle_werte[1:]).reshape((28,28)) # Erster Wert Liste(= target) abtrennen, reshape und Formatierung als Zahl\n",
    "    np.append(bild_array, bild_array, axis = 0)    \n",
    "    axarr[i].imshow(bild_array, cmap = 'Greys', interpolation = 'None') # Plotting "
   ]
  },
  {
   "cell_type": "markdown",
   "metadata": {},
   "source": [
    "#### Trainingsdatensatz vorbereiten\n",
    "<br/>\n",
    "\n",
    "-  Skalierung Trainingsdaten auf optimalen Bereich der Aktivierungsfunktion\n",
    "-  Elimierung Nullwerte aus skaliertem Datensatz.\n",
    "-  Nullgewichte blockieren Lernfähigkeit des Neuronalen Netzes (bzw. Gewichtsaktualisierung)"
   ]
  },
  {
   "cell_type": "code",
   "execution_count": 3,
   "metadata": {},
   "outputs": [],
   "source": [
    "# Skalierung Pixel erstes Bild auf Wertebereich [0.01, 0.99]\n",
    "input_skaliert = (np.asfarray(alle_werte[1:]) / 255.0 * 0.99) + 0.01"
   ]
  },
  {
   "cell_type": "markdown",
   "metadata": {},
   "source": [
    "#### Zielmatrix / Target vorbereiten\n",
    "\n",
    "-  Der erste Wert einer jeder Bilderliste gibt die handgeschriebene Zahl an, welche auf dem Bild zu erkennen ist\n",
    "-  Für oben gezeigte Biderlisten fünf Bilderlisten sind die Ziel-Werte dementsprechend 5,0,4,1 und 9.\n",
    "-  Da Aktiverungsfunktion der Output-Schicht weder 0 noch 1 erzeugen kann, ist Wertebereich target [0.01, 0.99].\n",
    "-  Ansonsten würde eine gesättigtes Netz entstehen bei dem Gewichte unnötig in die Höhe getrieben werden."
   ]
  },
  {
   "cell_type": "code",
   "execution_count": 4,
   "metadata": {},
   "outputs": [],
   "source": [
    "# Erzeugung Zielmatrix für erstes Bild\n",
    "output_nodes = 10\n",
    "targets = np.zeros(output_nodes) + 0.01              # alle falschen Werte auf 0.01\n",
    "targets[int(alle_werte[0])] = 0.99                   # erster Wert Pixelliste ist gesuchtes Ziel"
   ]
  },
  {
   "cell_type": "markdown",
   "metadata": {},
   "source": [
    "## Neuronales Netz für MNIST-Dataset"
   ]
  },
  {
   "cell_type": "code",
   "execution_count": 5,
   "metadata": {},
   "outputs": [],
   "source": [
    "import numpy as np\n",
    "import scipy.special # Sigmoid-Aktivierungsfunktion liegt als \"expit()\" in dieser Bibliothek\n",
    "\n",
    "class neuronalesNetz:\n",
    "    \n",
    "    # Initialisierung Netzarchitektur\n",
    "    def __init__(self, inputnodes, hiddennodes, outputnodes, learningrate):\n",
    "        self.innodes = inputnodes\n",
    "        self.hidnodes = hiddennodes\n",
    "        self.outnodes = outputnodes\n",
    "        self.lr = learningrate       \n",
    "        \n",
    "        self.wih = np.random.normal(loc=0.0, scale=pow(self.hidnodes, -0.5), size=(self.hidnodes, self.innodes))\n",
    "        self.who = np.random.normal(loc=0.0, scale=pow(self.outnodes, -0.5), size=(self.outnodes, self.hidnodes)) \n",
    "        \n",
    "        self.activation_function = lambda x: scipy.special.expit(x)\n",
    "        pass\n",
    "\n",
    "    \n",
    "    # Gewichte anhand Trainingsbeispielen trainieren\n",
    "    def train(self,input_list, target_list): \n",
    "\n",
    "        inputs = np.array(input_list, ndmin = 2).T \n",
    "        targets = np.array(target_list, ndmin = 2).T\n",
    "\n",
    "        # 1. Ausgabe für Trainingsbeispiel von Netz berechnen lassen\n",
    "        hidden_in = np.dot(self.wih, inputs) \n",
    "        hidden_out = self.activation_function(hidden_in) \n",
    "        output_in = np.dot(self.who, hidden_out) \n",
    "        output_out = self.activation_function(output_in)\n",
    "\n",
    "        # 2. Fehler der Ausgabe berechnen + Fehlerrückrechnung\n",
    "        output_errors = targets - output_out\n",
    "        hidden_errors = np.dot(self.who.T, output_errors)\n",
    "\n",
    "        # Gewichtsktualisierung für who und wih\n",
    "        self.who += self.lr * np.dot((output_errors * output_out * (1.0 - output_out)), np.transpose(hidden_out))\n",
    "        self.wih += self.lr * np.dot((hidden_errors * hidden_out * (1.0 - hidden_out)), np.transpose(inputs))       \n",
    "        pass\n",
    " \n",
    "\n",
    "    # für gegebenen Input, einen Ouput vom Neuronalen Netz abfragen\n",
    "    def query(self, input_list):   \n",
    "        \n",
    "        inputs = np.array(input_list, ndmin = 2).T # ndmin: minimum number of dimensions the resulting array should have\n",
    "        \n",
    "        # Verarbeitung Eingabe bis Ausgabe Hidden-Schicht\n",
    "        hidden_in = np.dot(self.wih, inputs) # Punktprodukt/Matrixmultiplikation/Skalarprodukt\n",
    "        hidden_out = self.activation_function(hidden_in) # Sigmoid-Aktivierungsfunktion auf Signal anwenden\n",
    "        \n",
    "        # Verarbeitung Ausgabe Hidden-Schicht bis finale Ausgabe\n",
    "        output_in = np.dot(self.who, hidden_out) \n",
    "        output_out = self.activation_function(output_in) \n",
    "        return output_out"
   ]
  },
  {
   "cell_type": "markdown",
   "metadata": {},
   "source": [
    "#### Neuronales Netz trainieren"
   ]
  },
  {
   "cell_type": "code",
   "execution_count": 6,
   "metadata": {},
   "outputs": [],
   "source": [
    "# Trainingsdatensatz laden\n",
    "data_file = open(\"mnist_train_100.csv\", 'r')\n",
    "training_data_list = data_file.readlines() \n",
    "data_file.close()\n",
    "\n",
    "# Erstellung Neuronales Netz\n",
    "input_nodes = 784 #(28 X 28 Pixel)\n",
    "hidden_nodes = 100 \n",
    "output_nodes = 10 # target ist Ziffer zwischen 0 und 9 (=10 mögliche Zielewerte)\n",
    "lr = 0.3\n",
    "\n",
    "nn = neuronalesNetz(input_nodes, hidden_nodes, output_nodes, lr) \n",
    "\n",
    "# Training für jeden der 100 Datensätze im train-set ausführen\n",
    "for record in training_data_list: \n",
    "    alle_werte = record.split(',')\n",
    "    input_pixel = (np.asfarray(alle_werte[1:]) / 255.0 * 0.99) + 0.01 # Skalierung 784 Pixelwerte\n",
    "    zielmatrix = np.zeros(output_nodes) + 0.01\n",
    "    zielmatrix[int(alle_werte[0])] = 0.99 # Zuweisung Target Zielwert 0.99 \n",
    "    nn.train(input_pixel, zielmatrix)        \n",
    "    pass"
   ]
  },
  {
   "cell_type": "markdown",
   "metadata": {},
   "source": [
    "#### Neuronales Netz testen"
   ]
  },
  {
   "cell_type": "code",
   "execution_count": 7,
   "metadata": {},
   "outputs": [],
   "source": [
    "# Testdatensatz laden\n",
    "data_file = open(\"mnist_test_10.csv\", 'r')\n",
    "test_data_list = data_file.readlines() \n",
    "data_file.close()"
   ]
  },
  {
   "cell_type": "code",
   "execution_count": 8,
   "metadata": {},
   "outputs": [
    {
     "name": "stdout",
     "output_type": "stream",
     "text": [
      "Ziffer auf dem Bild:  7\n"
     ]
    },
    {
     "data": {
      "image/png": "[encoded data removed]",
      "text/plain": [
       "<Figure size 432x288 with 1 Axes>"
      ]
     },
     "metadata": {
      "needs_background": "light"
     },
     "output_type": "display_data"
    }
   ],
   "source": [
    "import matplotlib.pyplot as plt\n",
    "\n",
    "# Anzeige des ersten Bildes im Testdatensatz:\n",
    "# Erkannt werden kann visuell die Ziffer 7\n",
    "alle_werte = test_data_list[0].split(',') # Pixel des i-ten Bild einlesen und Kommas entfernen\n",
    "bild_array = np.asfarray(alle_werte[1:]).reshape((28,28)) # Erster Wert Liste(= target) abtrennen, reshapen\n",
    "plt.imshow(bild_array, cmap = \"Greys\", interpolation = \"None\")\n",
    "print(\"Ziffer auf dem Bild: \", alle_werte[0])  "
   ]
  },
  {
   "cell_type": "code",
   "execution_count": 9,
   "metadata": {},
   "outputs": [
    {
     "name": "stdout",
     "output_type": "stream",
     "text": [
      "[[0.02087564]\n",
      " [0.01084734]\n",
      " [0.01777233]\n",
      " [0.10529556]\n",
      " [0.05438842]\n",
      " [0.01332317]\n",
      " [0.00871472]\n",
      " [0.87516335]\n",
      " [0.0322482 ]\n",
      " [0.02579167]]\n"
     ]
    },
    {
     "data": {
      "text/plain": [
       "7"
      ]
     },
     "execution_count": 9,
     "metadata": {},
     "output_type": "execute_result"
    }
   ],
   "source": [
    "# Abfrage Neuronales Netz \n",
    "input_pixel = (np.asfarray(alle_werte[1:]) / 255.0 * 0.99) + 0.01\n",
    "prediction = nn.query(input_pixel)\n",
    "print(prediction)\n",
    "np.argmax(prediction) "
   ]
  },
  {
   "cell_type": "markdown",
   "metadata": {},
   "source": [
    "<b><font color=blue>Neuronales Netz ist in der Lage Das ERSTE Bild mit nur 100 Trainingsdatensätzen richtig zu klassifizieren!</font></b>"
   ]
  },
  {
   "cell_type": "markdown",
   "metadata": {},
   "source": [
    "#### Evaluation Neuronales Netz \n",
    "\n",
    "-  Accuracy bestimmen für gesamten Testdatensatz"
   ]
  },
  {
   "cell_type": "code",
   "execution_count": 10,
   "metadata": {},
   "outputs": [
    {
     "name": "stdout",
     "output_type": "stream",
     "text": [
      "\n",
      "Korrekte Ziffer: 7 Prediction: 7\n",
      "\n",
      "Korrekte Ziffer: 2 Prediction: 6\n",
      "\n",
      "Korrekte Ziffer: 1 Prediction: 1\n",
      "\n",
      "Korrekte Ziffer: 0 Prediction: 0\n",
      "\n",
      "Korrekte Ziffer: 4 Prediction: 4\n",
      "\n",
      "Korrekte Ziffer: 1 Prediction: 1\n",
      "\n",
      "Korrekte Ziffer: 4 Prediction: 4\n",
      "\n",
      "Korrekte Ziffer: 9 Prediction: 3\n",
      "\n",
      "Korrekte Ziffer: 5 Prediction: 4\n",
      "\n",
      "Korrekte Ziffer: 9 Prediction: 7\n",
      "\n",
      "Wertungsliste:  [1, 0, 1, 1, 1, 1, 1, 0, 0, 0]\n",
      "Accuracy:  0.6\n"
     ]
    }
   ],
   "source": [
    "# Testdatensatz laden\n",
    "data_file = open(\"mnist_test_10.csv\", 'r')\n",
    "test_data_list = data_file.readlines() \n",
    "data_file.close()\n",
    "\n",
    "wertungsliste = []\n",
    "\n",
    "for record in test_data_list:\n",
    "    alle_werte = record.split(',')\n",
    "    target = int(alle_werte[0]) \n",
    "    print()\n",
    "    input_pixel = (np.asfarray(alle_werte[1:]) / 255.0 * 0.99) + 0.01\n",
    "    prediction = np.argmax(nn.query(input_pixel))\n",
    "    print(\"Korrekte Ziffer: {} Prediction: {}\".format(target,prediction)) \n",
    "    \n",
    "    if (target == prediction):\n",
    "        wertungsliste.append(1)\n",
    "    else:\n",
    "        wertungsliste.append(0)\n",
    "        \n",
    "print(\"\")        \n",
    "print(\"Wertungsliste: \", wertungsliste) \n",
    "accuracy = np.array(wertungsliste).sum() / np.array(wertungsliste).size\n",
    "print(\"Accuracy: \", accuracy) "
   ]
  },
  {
   "cell_type": "markdown",
   "metadata": {},
   "source": [
    "## Neuronales Netz mit gesamten MNIST-Dataset\n",
    "\n",
    "<br/>\n",
    "\n",
    "-  CSV-Files heruntergeladen von https://pjreddie.com/projects/mnist-in-csv/\n",
    "-  Trainingsdatensatz 60.000 Ziffern (mnist_train.csv)\n",
    "-  Testdatensatz 10.000 Ziffern (mnist_test.csv)"
   ]
  },
  {
   "cell_type": "code",
   "execution_count": 11,
   "metadata": {},
   "outputs": [
    {
     "name": "stdout",
     "output_type": "stream",
     "text": [
      "Trainingsdatensatz:  60000\n",
      "Testdatensatz:  10000\n"
     ]
    }
   ],
   "source": [
    "data_file = open(\"mnist_train.csv\", 'r')\n",
    "training_data_list = data_file.readlines() \n",
    "data_file.close()\n",
    "print(\"Trainingsdatensatz: \", len(training_data_list))\n",
    "data_file = open(\"mnist_test.csv\", 'r')\n",
    "training_data_list = data_file.readlines() \n",
    "data_file.close()\n",
    "print(\"Testdatensatz: \", len(training_data_list))"
   ]
  },
  {
   "cell_type": "code",
   "execution_count": 16,
   "metadata": {
    "scrolled": false
   },
   "outputs": [
    {
     "name": "stdout",
     "output_type": "stream",
     "text": [
      "Anzahl Datensätze trainiert:  10000\n",
      "Anzahl Datensätze trainiert:  20000\n",
      "Anzahl Datensätze trainiert:  30000\n",
      "Anzahl Datensätze trainiert:  40000\n",
      "Anzahl Datensätze trainiert:  50000\n",
      "Anzahl Datensätze trainiert:  60000\n",
      "\n",
      "Accuracy:  0.9495\n"
     ]
    }
   ],
   "source": [
    "import numpy as np\n",
    "import scipy.special # Sigmoid-Aktivierungsfunktion liegt als \"expit()\" in dieser Bibliothek\n",
    "\n",
    "class neuronalesNetz:\n",
    "    \n",
    "    # Initialisierung Netzarchitektur\n",
    "    def __init__(self, inputnodes, hiddennodes, outputnodes, learningrate):\n",
    "        self.innodes = inputnodes\n",
    "        self.hidnodes = hiddennodes\n",
    "        self.outnodes = outputnodes\n",
    "        self.lr = learningrate       \n",
    "        \n",
    "        self.wih = np.random.normal(loc=0.0, scale=pow(self.hidnodes, -0.5), size=(self.hidnodes, self.innodes))\n",
    "        self.who = np.random.normal(loc=0.0, scale=pow(self.outnodes, -0.5), size=(self.outnodes, self.hidnodes)) \n",
    "        \n",
    "        self.activation_function = lambda x: scipy.special.expit(x)\n",
    "        pass\n",
    "\n",
    "    \n",
    "    # Gewichte anhand Trainingsbeispielen trainieren\n",
    "    def train(self,input_list, target_list): \n",
    "\n",
    "        inputs = np.array(input_list, ndmin = 2).T \n",
    "        targets = np.array(target_list, ndmin = 2).T\n",
    "\n",
    "        # 1. Ausgabe für Trainingsbeispiel von Netz berechnen lassen\n",
    "        hidden_in = np.dot(self.wih, inputs) \n",
    "        hidden_out = self.activation_function(hidden_in) \n",
    "        output_in = np.dot(self.who, hidden_out) \n",
    "        output_out = self.activation_function(output_in)\n",
    "\n",
    "        # 2. Fehler der Ausgabe berechnen + Fehlerrückrechnung\n",
    "        output_errors = targets - output_out\n",
    "        hidden_errors = np.dot(self.who.T, output_errors)\n",
    "\n",
    "        # Gewichtsktualisierung für who und wih\n",
    "        self.who += self.lr * np.dot((output_errors * output_out * (1.0 - output_out)), np.transpose(hidden_out))\n",
    "        self.wih += self.lr * np.dot((hidden_errors * hidden_out * (1.0 - hidden_out)), np.transpose(inputs))       \n",
    "        pass\n",
    " \n",
    "\n",
    "    # für gegebenen Input, einen Ouput vom Neuronalen Netz abfragen\n",
    "    def query(self, input_list):   \n",
    "        \n",
    "        inputs = np.array(input_list, ndmin = 2).T # ndmin: minimum number of dimensions the resulting array should have\n",
    "        \n",
    "        # Verarbeitung Eingabe bis Ausgabe Hidden-Schicht\n",
    "        hidden_in = np.dot(self.wih, inputs) # Punktprodukt/Matrixmultiplikation/Skalarprodukt\n",
    "        hidden_out = self.activation_function(hidden_in) # Sigmoid-Aktivierungsfunktion auf Signal anwenden\n",
    "        \n",
    "        # Verarbeitung Ausgabe Hidden-Schicht bis finale Ausgabe\n",
    "        output_in = np.dot(self.who, hidden_out) \n",
    "        output_out = self.activation_function(output_in) \n",
    "        return output_out\n",
    " \n",
    "\n",
    "# Training\n",
    "data_file = open(\"mnist_train.csv\", 'r')\n",
    "training_data_list = data_file.readlines() \n",
    "data_file.close()\n",
    "\n",
    "# Erstellung Neuronales Netz\n",
    "input_nodes = 784 #(28 X 28 Pixel)\n",
    "hidden_nodes = 100 \n",
    "output_nodes = 10 # target ist Ziffer zwischen 0 und 9 (=10 mögliche Zielewerte)\n",
    "lr = 0.2\n",
    "\n",
    "nn = neuronalesNetz(input_nodes, hidden_nodes, output_nodes, lr) \n",
    "\n",
    "# Training für jeden der 100 Datensätze im train-set ausführen\n",
    "for record in training_data_list: \n",
    "    alle_werte = record.split(',')\n",
    "    input_pixel = (np.asfarray(alle_werte[1:]) / 255.0 * 0.99) + 0.01 # Skalierung 784 Pixelwerte\n",
    "    zielmatrix = np.zeros(output_nodes) + 0.01\n",
    "    zielmatrix[int(alle_werte[0])] = 0.99 # Zuweisung Target Zielwert 0.99 \n",
    "    nn.train(input_pixel, zielmatrix)\n",
    "    if ((training_data_list.index(record)+1)%10000 == 0):\n",
    "        print(\"Anzahl Datensätze trainiert: \", training_data_list.index(record)+1)\n",
    "    pass   \n",
    "\n",
    "# Testen\n",
    "data_file = open(\"mnist_test.csv\", 'r')\n",
    "test_data_list = data_file.readlines() \n",
    "data_file.close()\n",
    "\n",
    "wertungsliste = []\n",
    "\n",
    "for record in test_data_list:\n",
    "    alle_werte = record.split(',')\n",
    "    target = int(alle_werte[0]) \n",
    "    input_pixel = (np.asfarray(alle_werte[1:]) / 255.0 * 0.99) + 0.01\n",
    "    prediction = np.argmax(nn.query(input_pixel))\n",
    "    \n",
    "    if (target == prediction):\n",
    "        wertungsliste.append(1)\n",
    "    else:\n",
    "        wertungsliste.append(0)\n",
    "    pass\n",
    "\n",
    "print(\"\")\n",
    "accuracy = np.array(wertungsliste).sum() / np.array(wertungsliste).size\n",
    "print(\"Accuracy: \", accuracy) "
   ]
  },
  {
   "cell_type": "markdown",
   "metadata": {},
   "source": [
    "#### Accuracy des Neuronalen Netzes verbessern\n",
    "\n",
    "-  Training mit Trainingsdaten mehrmals wiederholen → 5 Epochen\n",
    "-  Anpassung Lernrate: Reduzierug Lernrate auf 0.1\n",
    "-  Anzahl Knoten Hidden Layer erhöhen um Kernkapazität Neuronale Netz zu verbessern → hidnodes = 200"
   ]
  },
  {
   "cell_type": "code",
   "execution_count": 18,
   "metadata": {},
   "outputs": [
    {
     "name": "stdout",
     "output_type": "stream",
     "text": [
      "Anzahl Datensätze trainiert:  10000\n",
      "Anzahl Datensätze trainiert:  20000\n",
      "Anzahl Datensätze trainiert:  30000\n",
      "Anzahl Datensätze trainiert:  40000\n",
      "Anzahl Datensätze trainiert:  50000\n",
      "Anzahl Datensätze trainiert:  60000\n",
      "Anzahl Datensätze trainiert:  10000\n",
      "Anzahl Datensätze trainiert:  20000\n",
      "Anzahl Datensätze trainiert:  30000\n",
      "Anzahl Datensätze trainiert:  40000\n",
      "Anzahl Datensätze trainiert:  50000\n",
      "Anzahl Datensätze trainiert:  60000\n",
      "Anzahl Datensätze trainiert:  10000\n",
      "Anzahl Datensätze trainiert:  20000\n",
      "Anzahl Datensätze trainiert:  30000\n",
      "Anzahl Datensätze trainiert:  40000\n",
      "Anzahl Datensätze trainiert:  50000\n",
      "Anzahl Datensätze trainiert:  60000\n",
      "Anzahl Datensätze trainiert:  10000\n",
      "Anzahl Datensätze trainiert:  20000\n",
      "Anzahl Datensätze trainiert:  30000\n",
      "Anzahl Datensätze trainiert:  40000\n",
      "Anzahl Datensätze trainiert:  50000\n",
      "Anzahl Datensätze trainiert:  60000\n",
      "Anzahl Datensätze trainiert:  10000\n",
      "Anzahl Datensätze trainiert:  20000\n",
      "Anzahl Datensätze trainiert:  30000\n",
      "Anzahl Datensätze trainiert:  40000\n",
      "Anzahl Datensätze trainiert:  50000\n",
      "Anzahl Datensätze trainiert:  60000\n",
      "\n",
      "Accuracy:  0.9742\n"
     ]
    }
   ],
   "source": [
    "import numpy as np\n",
    "import scipy.special # Sigmoid-Aktivierungsfunktion liegt als \"expit()\" in dieser Bibliothek\n",
    "\n",
    "class neuronalesNetz:\n",
    "    \n",
    "    # Initialisierung Netzarchitektur\n",
    "    def __init__(self, inputnodes, hiddennodes, outputnodes, learningrate):\n",
    "        self.innodes = inputnodes\n",
    "        self.hidnodes = hiddennodes\n",
    "        self.outnodes = outputnodes\n",
    "        self.lr = learningrate       \n",
    "        \n",
    "        self.wih = np.random.normal(loc=0.0, scale=pow(self.hidnodes, -0.5), size=(self.hidnodes, self.innodes))\n",
    "        self.who = np.random.normal(loc=0.0, scale=pow(self.outnodes, -0.5), size=(self.outnodes, self.hidnodes)) \n",
    "        \n",
    "        self.activation_function = lambda x: scipy.special.expit(x)\n",
    "        pass\n",
    "\n",
    "    \n",
    "    # Gewichte anhand Trainingsbeispielen trainieren\n",
    "    def train(self,input_list, target_list): \n",
    "\n",
    "        inputs = np.array(input_list, ndmin = 2).T \n",
    "        targets = np.array(target_list, ndmin = 2).T\n",
    "\n",
    "        # 1. Ausgabe für Trainingsbeispiel von Netz berechnen lassen\n",
    "        hidden_in = np.dot(self.wih, inputs) \n",
    "        hidden_out = self.activation_function(hidden_in) \n",
    "        output_in = np.dot(self.who, hidden_out) \n",
    "        output_out = self.activation_function(output_in)\n",
    "\n",
    "        # 2. Fehler der Ausgabe berechnen + Fehlerrückrechnung\n",
    "        output_errors = targets - output_out\n",
    "        hidden_errors = np.dot(self.who.T, output_errors)\n",
    "\n",
    "        # Gewichtsktualisierung für who und wih\n",
    "        self.who += self.lr * np.dot((output_errors * output_out * (1.0 - output_out)), np.transpose(hidden_out))\n",
    "        self.wih += self.lr * np.dot((hidden_errors * hidden_out * (1.0 - hidden_out)), np.transpose(inputs))       \n",
    "        pass\n",
    " \n",
    "\n",
    "    # für gegebenen Input, einen Ouput vom Neuronalen Netz abfragen\n",
    "    def query(self, input_list):   \n",
    "        \n",
    "        inputs = np.array(input_list, ndmin = 2).T # ndmin: minimum number of dimensions the resulting array should have\n",
    "        \n",
    "        # Verarbeitung Eingabe bis Ausgabe Hidden-Schicht\n",
    "        hidden_in = np.dot(self.wih, inputs) # Punktprodukt/Matrixmultiplikation/Skalarprodukt\n",
    "        hidden_out = self.activation_function(hidden_in) # Sigmoid-Aktivierungsfunktion auf Signal anwenden\n",
    "        \n",
    "        # Verarbeitung Ausgabe Hidden-Schicht bis finale Ausgabe\n",
    "        output_in = np.dot(self.who, hidden_out) \n",
    "        output_out = self.activation_function(output_in) \n",
    "        return output_out\n",
    " \n",
    "\n",
    "# Training\n",
    "data_file = open(\"mnist_train.csv\", 'r')\n",
    "training_data_list = data_file.readlines() \n",
    "data_file.close()\n",
    "\n",
    "# Erstellung Neuronales Netz\n",
    "input_nodes = 784 #(28 X 28 Pixel)\n",
    "hidden_nodes = 200 # Lernkapazität steigern\n",
    "output_nodes = 10 # target ist Ziffer zwischen 0 und 9 (=10 mögliche Zielewerte)\n",
    "lr = 0.1 # Reduzierug Lernrate auf 0.1\n",
    "\n",
    "nn = neuronalesNetz(input_nodes, hidden_nodes, output_nodes, lr) \n",
    "epochs = 5 # Komplettes Training mehrmals ausführen\n",
    "\n",
    "# Training für jeden der 100 Datensätze im train-set ausführen\n",
    "for e in range(epochs):\n",
    "    for record in training_data_list: \n",
    "        alle_werte = record.split(',')\n",
    "        input_pixel = (np.asfarray(alle_werte[1:]) / 255.0 * 0.99) + 0.01 # Skalierung 784 Pixelwerte\n",
    "        zielmatrix = np.zeros(output_nodes) + 0.01\n",
    "        zielmatrix[int(alle_werte[0])] = 0.99 # Zuweisung Target Zielwert 0.99 \n",
    "        nn.train(input_pixel, zielmatrix)\n",
    "        if ((training_data_list.index(record)+1)%10000 == 0):\n",
    "            print(\"Anzahl Datensätze trainiert: \", training_data_list.index(record)+1)\n",
    "        pass   \n",
    "    pass\n",
    "\n",
    "# Testen\n",
    "data_file = open(\"mnist_test.csv\", 'r')\n",
    "test_data_list = data_file.readlines() \n",
    "data_file.close()\n",
    "\n",
    "wertungsliste = []\n",
    "\n",
    "for record in test_data_list:\n",
    "    alle_werte = record.split(',')\n",
    "    target = int(alle_werte[0]) \n",
    "    input_pixel = (np.asfarray(alle_werte[1:]) / 255.0 * 0.99) + 0.01\n",
    "    prediction = np.argmax(nn.query(input_pixel))\n",
    "    \n",
    "    if (target == prediction):\n",
    "        wertungsliste.append(1)\n",
    "    else:\n",
    "        wertungsliste.append(0)\n",
    "    pass\n",
    "\n",
    "print(\"\")\n",
    "accuracy = np.array(wertungsliste).sum() / np.array(wertungsliste).size\n",
    "print(\"Accuracy: \", accuracy) "
   ]
  },
  {
   "cell_type": "markdown",
   "metadata": {},
   "source": [
    "# Accuracy 97,42%"
   ]
  },
  {
   "cell_type": "markdown",
   "metadata": {},
   "source": [
    "<b><font color=blue>Rechenzeit ca. 15min mit CPU</font></b>"
   ]
  }
 ],
 "metadata": {
  "kernelspec": {
   "display_name": "Python 3",
   "language": "python",
   "name": "python3"
  },
  "language_info": {
   "codemirror_mode": {
    "name": "ipython",
    "version": 3
   },
   "file_extension": ".py",
   "mimetype": "text/x-python",
   "name": "python",
   "nbconvert_exporter": "python",
   "pygments_lexer": "ipython3",
   "version": "3.7.1"
  }
 },
 "nbformat": 4,
 "nbformat_minor": 2
}
